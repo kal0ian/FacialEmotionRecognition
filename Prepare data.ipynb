{
 "cells": [
  {
   "cell_type": "code",
   "execution_count": null,
   "metadata": {},
   "outputs": [],
   "source": [
    "import pandas as pd\n",
    "import numpy as np\n",
    "import zipfile"
   ]
  },
  {
   "cell_type": "code",
   "execution_count": null,
   "metadata": {},
   "outputs": [],
   "source": [
    "DATA_FOLDER = \"./data/\""
   ]
  },
  {
   "cell_type": "code",
   "execution_count": null,
   "metadata": {},
   "outputs": [],
   "source": [
    "filepath = DATA_FOLDER + \"fer2013.zip\"\n",
    "zfile = zipfile.ZipFile(filepath)\n",
    "df = pd.read_csv(zfile.open('fer2013.csv'), sep=\" \", header=None)"
   ]
  },
  {
   "cell_type": "code",
   "execution_count": null,
   "metadata": {},
   "outputs": [],
   "source": [
    "df_public_test = df[df[df.columns[-1]] == \"PublicTest\"]\n",
    "del df_public_test[df.columns[-1]]\n",
    "df_public_test.columns = df_public_test.columns.astype(str)\n",
    "df_public_test.to_parquet(DATA_FOLDER + \"public_test.parquet\", compression=\"GZIP\")"
   ]
  },
  {
   "cell_type": "code",
   "execution_count": null,
   "metadata": {
    "scrolled": true
   },
   "outputs": [],
   "source": [
    "df_private_test = df[df[df.columns[-1]] == \"PrivateTest\"]\n",
    "del df_private_test[df.columns[-1]]\n",
    "df_private_test.columns = df_private_test.columns.astype(str)\n",
    "df_private_test.to_parquet(DATA_FOLDER + \"private_test.parquet\", compression=\"GZIP\")"
   ]
  },
  {
   "cell_type": "code",
   "execution_count": null,
   "metadata": {},
   "outputs": [],
   "source": [
    "df_training = df[df[df.columns[-1]] == \"Training\"]\n",
    "del df_training[df.columns[-1]]\n",
    "\n",
    "df_training.columns = df_training.columns.astype(str)\n",
    "df_training.to_parquet(DATA_FOLDER + \"training.parquet\", compression=\"GZIP\")"
   ]
  },
  {
   "cell_type": "code",
   "execution_count": null,
   "metadata": {},
   "outputs": [],
   "source": []
  }
 ],
 "metadata": {
  "kernelspec": {
   "display_name": "Python 3",
   "language": "python",
   "name": "python3"
  },
  "language_info": {
   "codemirror_mode": {
    "name": "ipython",
    "version": 3
   },
   "file_extension": ".py",
   "mimetype": "text/x-python",
   "name": "python",
   "nbconvert_exporter": "python",
   "pygments_lexer": "ipython3",
   "version": "3.6.3"
  }
 },
 "nbformat": 4,
 "nbformat_minor": 2
}
