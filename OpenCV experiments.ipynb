{
 "cells": [
  {
   "cell_type": "code",
   "execution_count": 33,
   "metadata": {},
   "outputs": [],
   "source": [
    "import cv2\n",
    "import os\n",
    "import numpy as np\n",
    "from keras.models import model_from_json"
   ]
  },
  {
   "cell_type": "code",
   "execution_count": 34,
   "metadata": {},
   "outputs": [],
   "source": [
    "def load_model(filename, verbose=False):\n",
    "    json_file = open(filename + '.json', 'r')\n",
    "    loaded_model_json = json_file.read()\n",
    "    json_file.close()\n",
    "    loaded_model = model_from_json(loaded_model_json)\n",
    "    loaded_model.load_weights(filename + \".h5\")\n",
    "    if verbose:\n",
    "        print(\"The following model \" + filename + \" has been loaded\")\n",
    "    return loaded_model"
   ]
  },
  {
   "cell_type": "code",
   "execution_count": 35,
   "metadata": {},
   "outputs": [],
   "source": [
    "def classify_uploded_image(model, image):\n",
    "    lables = [\"Angry\", \"Disgust\", \"Fear\", \"Happy\", \"Sad\", \"Surprise\", \"Neutral\"]\n",
    "    image_copy = np.copy(image)\n",
    "    gray_image = cv2.cvtColor(image, cv2.COLOR_RGB2GRAY)\n",
    "    faceCascade = cv2.CascadeClassifier(\"haarcascade_frontalface_default.xml\")\n",
    "    faces = faceCascade.detectMultiScale(\n",
    "        gray_image,\n",
    "        scaleFactor=1.1,\n",
    "        minNeighbors=5,\n",
    "        minSize=(48, 48)\n",
    "    )\n",
    "    face_crop = []\n",
    "    print(\"Number of faces: \" + str(len(faces)))\n",
    "    for f in faces:\n",
    "        x, y, w, h = [ v for v in f ]\n",
    "        cv2.rectangle(image_copy, (x,y), (x+w, y+h), (255,0,0), 3)\n",
    "        face_crop.append(gray_image[y:y+h, x:x+w])\n",
    "\n",
    "    for face in face_crop:\n",
    "        resized_face = cv2.resize(face,(48,48))\n",
    "        resized_face = resized_face.astype(\"float32\")/255.\n",
    "        resized_face = resized_face.reshape(1,48,48,1)\n",
    "        prediction = model.predict(resized_face)\n",
    "        \n",
    "        cv2.imshow('face', face)\n",
    "        cv2.waitKey(0)\n",
    "        print(lables[np.argmax(prediction[0])])"
   ]
  },
  {
   "cell_type": "code",
   "execution_count": 46,
   "metadata": {},
   "outputs": [],
   "source": [
    "image = cv2.imread('img.jpg')\n",
    "gray_image = cv2.imread('img.jpg',2)\n",
    "model = load_model(\"./trained_models/best_40epochs\")"
   ]
  },
  {
   "cell_type": "code",
   "execution_count": 51,
   "metadata": {},
   "outputs": [
    {
     "name": "stdout",
     "output_type": "stream",
     "text": [
      "Number of faces: 6\n"
     ]
    },
    {
     "data": {
      "text/plain": [
       "[{'filepath': 'face0.png', 'emotion': 'Happy'},\n",
       " {'filepath': 'face1.png', 'emotion': 'Happy'},\n",
       " {'filepath': 'face2.png', 'emotion': 'Happy'},\n",
       " {'filepath': 'face3.png', 'emotion': 'Happy'},\n",
       " {'filepath': 'face4.png', 'emotion': 'Sad'},\n",
       " {'filepath': 'face5.png', 'emotion': 'Sad'}]"
      ]
     },
     "execution_count": 51,
     "metadata": {},
     "output_type": "execute_result"
    }
   ],
   "source": [
    "classify_uploded_image(model,image,gray_image)"
   ]
  },
  {
   "cell_type": "code",
   "execution_count": 50,
   "metadata": {},
   "outputs": [],
   "source": [
    "def classify_uploded_image(model, image_copy, gray_image):\n",
    "    lables = [\"Angry\", \"Disgust\", \"Fear\", \"Happy\", \"Sad\", \"Surprise\", \"Neutral\"]\n",
    "    faceCascade = cv2.CascadeClassifier(\"haarcascade_frontalface_default.xml\")\n",
    "    faces = faceCascade.detectMultiScale(\n",
    "        gray_image,\n",
    "        scaleFactor=1.1,\n",
    "        minNeighbors=5,\n",
    "        minSize=(48, 48)\n",
    "    )\n",
    "    face_crop = []\n",
    "    print(\"Number of faces: \" + str(len(faces)))\n",
    "    for f in faces:\n",
    "        x, y, w, h = [ v for v in f ]\n",
    "        cv2.rectangle(image_copy, (x,y), (x+w, y+h), (255,0,0), 3)\n",
    "        face_crop.append(gray_image[y:y+h, x:x+w])\n",
    "    index = 0\n",
    "    items = []\n",
    "    for face in face_crop:\n",
    "        resized_face = cv2.resize(face,(48,48))\n",
    "        resized_face = resized_face.astype(\"float32\")/255.\n",
    "        resized_face = resized_face.reshape(1,48,48,1)\n",
    "        prediction = model.predict(resized_face)\n",
    "\n",
    "        cv2.imshow('face', face)\n",
    "        cv2.waitKey(0)\n",
    "        filename = 'face'+str(index)+'.png'\n",
    "        answer = dict(filepath=filename, emotion=lables[np.argmax(prediction[0])])\n",
    "        items.append(answer)\n",
    "        index=index+1\n",
    "    return items"
   ]
  },
  {
   "cell_type": "code",
   "execution_count": null,
   "metadata": {},
   "outputs": [],
   "source": []
  },
  {
   "cell_type": "code",
   "execution_count": null,
   "metadata": {},
   "outputs": [],
   "source": []
  },
  {
   "cell_type": "code",
   "execution_count": null,
   "metadata": {},
   "outputs": [],
   "source": []
  },
  {
   "cell_type": "code",
   "execution_count": null,
   "metadata": {},
   "outputs": [],
   "source": []
  },
  {
   "cell_type": "code",
   "execution_count": 39,
   "metadata": {},
   "outputs": [
    {
     "data": {
      "text/plain": [
       "(363, 814, 3)"
      ]
     },
     "execution_count": 39,
     "metadata": {},
     "output_type": "execute_result"
    }
   ],
   "source": [
    "image.shape"
   ]
  },
  {
   "cell_type": "code",
   "execution_count": 32,
   "metadata": {},
   "outputs": [
    {
     "name": "stdout",
     "output_type": "stream",
     "text": [
      "Number of faces: 5\n",
      "Happy\n",
      "Happy\n",
      "Happy\n",
      "Happy\n",
      "Sad\n"
     ]
    }
   ],
   "source": [
    "classify_uploded_image(model, image)"
   ]
  },
  {
   "cell_type": "code",
   "execution_count": null,
   "metadata": {},
   "outputs": [],
   "source": []
  }
 ],
 "metadata": {
  "kernelspec": {
   "display_name": "Python 3",
   "language": "python",
   "name": "python3"
  },
  "language_info": {
   "codemirror_mode": {
    "name": "ipython",
    "version": 3
   },
   "file_extension": ".py",
   "mimetype": "text/x-python",
   "name": "python",
   "nbconvert_exporter": "python",
   "pygments_lexer": "ipython3",
   "version": "3.6.5"
  }
 },
 "nbformat": 4,
 "nbformat_minor": 2
}
